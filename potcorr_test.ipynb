{
 "cells": [
  {
   "cell_type": "code",
   "execution_count": null,
   "metadata": {},
   "outputs": [],
   "source": [
    "import potcorr\n",
    "import psutil\n",
    "import os\n",
    "import lab\n",
    "import numpy as np\n",
    "import pickle\n",
    "from sklearn.preprocessing import PolynomialFeatures\n",
    "from sklearn.linear_model import LinearRegression\n",
    "from sklearn.pipeline import make_pipeline\n",
    "from scipy.sparse import csr_matrix\n",
    "from scipy.sparse.linalg import inv\n",
    "import sys\n",
    "#from pympler import asizeof\n",
    "import io_xsf \n",
    "import matplotlib.pyplot as plt"
   ]
  },
  {
   "cell_type": "code",
   "execution_count": null,
   "metadata": {},
   "outputs": [],
   "source": [
    "cell = lab.bn_12x12\n",
    "#cell = lab.bn_6x6\n",
    "print('Starting job for '+cell['prefix']+'...')\n",
    "\n",
    "#Eps0 =  read_eps.Epsmat(cell['folder']+'chi0mat.h5')\n",
    "#Eps1 = read_eps.Epsmat(cell['folder']+'chimat.h5')\n",
    "#np.save(cell['folder']+'chi0mat.npy', Eps1.mat)\n",
    "\n",
    "ttkw=potcorr.PotCorr(cell)\n",
    "print(ttkw.prefix)\n",
    "print(ttkw.lattpara_unit)\n",
    "# print(type(mos2.lattpara_unit))\n",
    "\n",
    "ttkw.fft_init()\n",
    "ttkw.get_vcoul()\n",
    "ttkw.epsmat_init_interp(G_vec2ind_dict=cell['folder_G_info']+'G_vec2ind.pkl',\n",
    "                        G_ind2vec_dict=cell['folder_G_info']+'G_ind2vec.pkl')\n",
    "#print(ttkw.g_tuple_floor_tt)\n",
    "#print(ttkw.g_rhoind_tt)\n",
    "#print(ttkw.g_tuple_q_tt)\n",
    "\n",
    "with open(cell['folder_model']+'model_all_re.pkl','rb') as file:\n",
    "    model_all_re = pickle.load(file)\n",
    "with open(cell['folder_model']+'model_all_im.pkl','rb') as file:\n",
    "    model_all_im = pickle.load(file)\n",
    "with open(cell['folder_G_info']+'Gind_list.pkl','rb') as file:\n",
    "    Gind_list = pickle.load(file)\n",
    "\n",
    "\n"
   ]
  },
  {
   "cell_type": "code",
   "execution_count": null,
   "metadata": {},
   "outputs": [],
   "source": [
    "with open(cell['folder_G_info']+'G_ind2vec.pkl', \"rb\") as file_:\n",
    "    G_ind2vec = pickle.load(file_)\n"
   ]
  },
  {
   "cell_type": "code",
   "execution_count": null,
   "metadata": {},
   "outputs": [],
   "source": [
    "G_ind2vec[688]"
   ]
  },
  {
   "cell_type": "code",
   "execution_count": null,
   "metadata": {},
   "outputs": [],
   "source": [
    "flatten_gind = ttkw.g_rhoind_tt.flatten()\n",
    "flatten_qvec = ttkw.g_tuple_q_tt.flatten()\n",
    "flatten_vcoul = ttkw.v_coul.flatten()"
   ]
  },
  {
   "cell_type": "code",
   "execution_count": null,
   "metadata": {},
   "outputs": [],
   "source": [
    "val_size = len(np.where(flatten_gind < len(Gind_list))[0])"
   ]
  },
  {
   "cell_type": "code",
   "execution_count": null,
   "metadata": {},
   "outputs": [],
   "source": [
    "nq_=144\n",
    "chi_mat_q = np.zeros([nq_,len(Gind_list),len(Gind_list) ], dtype=complex)\n",
    "eps_mat_q = np.zeros([nq_,len(Gind_list),len(Gind_list) ], dtype=complex)"
   ]
  },
  {
   "cell_type": "code",
   "execution_count": null,
   "metadata": {},
   "outputs": [],
   "source": [
    "#eps_values = np.zeros((val_size*len(Gind_list), 1),dtype=complex)\n",
    "#eps_indices_j = np.zeros(val_size*len(Gind_list),dtype=int)\n",
    "#eps_indices_i = np.zeros(val_size*len(Gind_list),dtype=int)\n",
    "#start_idx = 0\n",
    "for i in range(len(Gind_list)):\n",
    "    print(i)\n",
    "    g_qvec_ind_i=np.where(flatten_gind==i)[0]\n",
    "    #vcoul_values = flatten_vcoul[g_qvec_ind_i].reshape(-1,1)\n",
    "    for j in range(len(Gind_list)):\n",
    "        #print(j)\n",
    "        g_qvec_ind_j=np.where(flatten_gind==j)[0]\n",
    "        #end_idx = start_idx+len(g_qvec_ind_j)\n",
    "        qinp_set = np.array([np.array([a[0],a[1]]) for a in flatten_qvec[g_qvec_ind_j]])\n",
    "        #print(flatten_qvec[g_qvec_ind])\n",
    "        g0_,g1_ = i,j\n",
    "        chi_re_set = model_all_re[f'model_{g0_}_{g1_}'].predict(qinp_set)\n",
    "        chi_im_set = model_all_im[f'model_{g0_}_{g1_}'].predict(qinp_set)\n",
    "        chi_set = chi_re_set #+ 1j*chi_im_set\n",
    "        eps_mat_q[:,i,j]=chi_set.flatten()\n",
    "        #eps_mat_q[:,i,j]=\n",
    "        #eps_values[start_idx:end_idx] = chi_set#*vcoul_values\n",
    "        #if i == j:\n",
    "        #    eps_values[start_idx:end_idx] = eps_values[start_idx:end_idx]+1\n",
    "        #eps_indices_j[start_idx:end_idx] = g_qvec_ind_j\n",
    "        #eps_indices_i[start_idx:end_idx] = g_qvec_ind_i\n",
    "        #start_idx = end_idx\n",
    "        #print(chi_set)\n",
    "        #print(g_qvec_ind)\n",
    "#print(chi_values)\n",
    "#print([x for x in chi_indices])\n",
    "    \n",
    "    "
   ]
  },
  {
   "cell_type": "code",
   "execution_count": null,
   "metadata": {},
   "outputs": [],
   "source": [
    "qvec_set = sorted(set(ttkw.g_tuple_q_tt.flatten()))\n",
    "qvec2ind = {qvec:ind for ind, qvec in enumerate(qvec_set)}\n"
   ]
  },
  {
   "cell_type": "code",
   "execution_count": null,
   "metadata": {},
   "outputs": [],
   "source": [
    "vectorized_lookup = np.vectorize(qvec2ind.get)\n",
    "q_ind_tt = vectorized_lookup(ttkw.g_tuple_q_tt)"
   ]
  },
  {
   "cell_type": "code",
   "execution_count": null,
   "metadata": {},
   "outputs": [],
   "source": [
    "np.shape(eps_mat_q[1])"
   ]
  },
  {
   "cell_type": "code",
   "execution_count": null,
   "metadata": {},
   "outputs": [],
   "source": [
    "qinp_set\n",
    "fig = plt.figure()\n",
    "ax = fig.add_subplot(111, projection='3d')\n",
    "\n",
    "# Create a scatter plot\n",
    "ax.scatter(qinp_set[:,0], qinp_set[:, 1],np.real(eps_mat_q[:,0,0]) )\n",
    "\n",
    "# Set labels\n",
    "ax.set_xlabel('X')\n",
    "ax.set_ylabel('Y')\n",
    "ax.set_zlabel('Z')\n",
    "\n",
    "plt.show()"
   ]
  },
  {
   "cell_type": "code",
   "execution_count": null,
   "metadata": {},
   "outputs": [],
   "source": [
    "ttkw.read_chi()"
   ]
  },
  {
   "cell_type": "code",
   "execution_count": null,
   "metadata": {},
   "outputs": [],
   "source": [
    "ttkw.get_chimat()"
   ]
  },
  {
   "cell_type": "code",
   "execution_count": null,
   "metadata": {},
   "outputs": [],
   "source": [
    "for i0_ in Gind_list:\n",
    "    for i1_ in Gind_list:\n",
    "        iix0, iiy0, iiz0 = ttkw.Chi0.G_ind2vec[i0_]\n",
    "        iix1, iiy1, iiz1 = ttkw.Chi0.G_ind2vec[i1_]\n",
    "        g0_ = [iix0, iiy0, iiz0]\n",
    "        g1_ = [iix1, iiy1, iiz1]\n",
    "        eps_Re_ = []\n",
    "        eps_Im_ = []\n",
    "        q_ = ttkw.Chi1.qpts[:]\n",
    "        q0_ = ttkw.Chi0.qpts[:]\n",
    "        q0_abs_ = np.sqrt((q0_[:,0])**2+ (np.sqrt(3)/3*(q0_[:,0])+2*np.sqrt(3)/3*(q0_[:,1]))**2)\n",
    "        q1_abs_ = np.sqrt((q_[:,0])**2+ (np.sqrt(3)/3*(q_[:,0])+2*np.sqrt(3)/3*(q_[:,1]))**2)\n",
    "        for i in range(1):\n",
    "            #print(i)\n",
    "            qind_ = i\n",
    "            g_vec0_ = tuple(g0_)\n",
    "            g_vec1_ = tuple(g1_)\n",
    "            gind_rho0_ = ttkw.Chi0.G_vec2ind[g_vec0_]\n",
    "            gind_rho1_ = ttkw.Chi0.G_vec2ind[g_vec1_]\n",
    "            \n",
    "            gind_eps0_ = ttkw.Chi0.gind_rho2eps[qind_, gind_rho0_]\n",
    "            gind_eps1_ = ttkw.Chi0.gind_rho2eps[qind_, gind_rho1_]\n",
    "            if (gind_eps0_ > 1000 or gind_eps1_ > 1000):\n",
    "                continue     \n",
    "            mat_Re_ = ttkw.Chi0.mat[qind_,0,0,gind_eps0_-1,gind_eps1_-1,0]\n",
    "            mat_Im_ = ttkw.Chi0.mat[qind_,0,0,gind_eps0_-1,gind_eps1_-1,1]\n",
    "            eps_Re_.append(mat_Re_)\n",
    "            eps_Im_.append(mat_Im_)\n",
    "        #    q_abs_ = np.hstack((np.array([]),q0_abs_))\n",
    "        q_abs_ = []\n",
    "\n",
    "        for i in range(1,144):\n",
    "            #print(i)\n",
    "            qind_ = i\n",
    "            g_vec0_ = tuple(g0_)\n",
    "            g_vec1_ = tuple(g1_)\n",
    "            gind_rho0_ = ttkw.Chi1.G_vec2ind[g_vec0_]\n",
    "            gind_rho1_ = ttkw.Chi1.G_vec2ind[g_vec1_]\n",
    "            #print(gind_rho0_)\n",
    "            #print(gind_rho1_)\n",
    "            gind_eps0_ = ttkw.Chi1.gind_rho2eps[qind_, gind_rho0_]\n",
    "            gind_eps1_ = ttkw.Chi1.gind_rho2eps[qind_, gind_rho1_]\n",
    "            if (gind_eps0_ > 1000 or gind_eps1_ > 1000):\n",
    "                continue     \n",
    "            mat_Re_ = ttkw.Chi1.mat[qind_,0,0,gind_eps0_-1,gind_eps1_-1,0]\n",
    "            mat_Im_ = ttkw.Chi1.mat[qind_,0,0,gind_eps0_-1,gind_eps1_-1,1]\n",
    "            eps_Re_.append(mat_Re_)\n",
    "            eps_Im_.append(mat_Im_)\n",
    "        q_abs_ = np.hstack((q_abs_, q1_abs_[0:] ))\n",
    "\n",
    "        y_re_data = np.array(eps_Re_)[:,np.newaxis]\n",
    "        y_im_data = np.array(eps_Im_)[:,np.newaxis]\n",
    "        if len(y_re_data) < 144:\n",
    "            continue\n",
    "\n",
    "        qpt = q_[:,:2]\n",
    "        chi_mat_q[:,i,j] = y_re_data.flatten() + 1j*y_im_data.flatten()\n",
    "        #print(qpt)\n",
    "        #degree = 9\n",
    "        #model_2d = make_pipeline(PolynomialFeatures(degree), LinearRegression())\n",
    "        #model_2d.fit(qpt, y_re_data)\n",
    "\n",
    "\n",
    "        #q_inp = np.random.rand(500,2)\n",
    "        #y_pred = model_2d.predict(q_inp)\n",
    "        #q_zero = np.array([[0,0]])\n",
    "        #y_zero = model_2d.predict(q_zero)\n",
    "        #params = model_2d.named_steps['linearregression'].coef_\n",
    "        #intercept = model_2d.named_steps['linearregression'].intercept_\n",
    "        \n",
    "        #print('Intercept: ', intercept)\n",
    "        #print('Coefficients: ', params)\n",
    "\n",
    "        #fig = plt.figure()\n",
    "        #ax = fig.add_subplot(111, projection='3d')\n",
    "        '''\n",
    "        fig,ax = plt.subplots(1,2,figsize = (16,6), dpi = 100)\n",
    "        #ax = fig.add_subplot(111)\n",
    "\n",
    "        ax[0].scatter(range(len(qpt)), y_re_data,s = 50 ,label=\"exact\")\n",
    "        ax[0].scatter(range(len(qinp_set[:,0])),np.real(eps_mat_q[:,i0_,i1_]),s = 20,label=\"interpolation\" )\n",
    "\n",
    "        ax[1].scatter(range(len(qpt)), y_im_data, s = 50,label=\"exact\")\n",
    "        ax[1].scatter(range(len(qinp_set[:,0])),np.imag(eps_mat_q[:,i0_,i1_]),s =20,label=\"interpolation\" )\n",
    "        # Create a scatter plot\n",
    "        #ax.scatter(qpt[:, 0], qpt[:, 1], y_re_data)\n",
    "        #ax.scatter(qinp_set[:,0], qinp_set[:, 1],eps_mat_q[:,i0_,i1_] )\n",
    "    #    ax.scatter(q_inp[:, 0], q_inp[:, 1], y_pred)\n",
    "    #    ax.scatter(q_zero[:,0], q_zero[:,1], y_zero)\n",
    "        # Set labels\n",
    "        ax[0].set_xlabel('q-point index')\n",
    "        ax[1].set_xlabel('q-point index')\n",
    "        #ax.set_ylabel('Y')\n",
    "        #ax.set_zlabel('Z')\n",
    "        ax[0].legend()\n",
    "        ax[1].legend()\n",
    "        plt.show()\n",
    "        #print(np.abs(y_re_data-np.real(eps_mat_q[:,i0_,i1_])))\n",
    "        '''"
   ]
  },
  {
   "cell_type": "code",
   "execution_count": null,
   "metadata": {},
   "outputs": [],
   "source": [
    "#eps_mat = csr_matrix((eps_values.flatten(),(eps_indices_i, eps_indices_j)),shape=(len(flatten_gind), len(flatten_gind)))"
   ]
  },
  {
   "cell_type": "code",
   "execution_count": null,
   "metadata": {},
   "outputs": [],
   "source": [
    "print(len(ttkw.E_Gqvec_tt[ttkw.E_Gqvec_tt<5]))\n",
    "print(len(set(ttkw.g_rhoind_tt[ttkw.E_Gqvec_tt<5])))\n",
    "Gind_list = list(sorted(set(ttkw.g_rhoind_tt[ttkw.E_Gqvec_tt<5])))"
   ]
  },
  {
   "cell_type": "code",
   "execution_count": null,
   "metadata": {},
   "outputs": [],
   "source": [
    "for i in Gind_list:\n",
    "    print(i)"
   ]
  },
  {
   "cell_type": "code",
   "execution_count": null,
   "metadata": {},
   "outputs": [],
   "source": [
    "with open(cell['folder']+'Gind_list.pkl','wb') as file:\n",
    "        pickle.dump(Gind_list, file)"
   ]
  },
  {
   "cell_type": "code",
   "execution_count": null,
   "metadata": {},
   "outputs": [],
   "source": [
    "Rho1 = io_xsf.Rho(cell['folder']+'drho.xsf')\n",
    "pot_tot_k = np.fft.fftn(Rho1.rho)*ttkw.v_coul\n",
    "pot_tot_k[0,0,0] = 0"
   ]
  },
  {
   "cell_type": "code",
   "execution_count": null,
   "metadata": {},
   "outputs": [],
   "source": [
    "\n",
    "phi_k = np.zeros_like(pot_tot_k, dtype=complex)\n",
    "#Gind_list = range(22)\n",
    "phi_k[ttkw.g_rhoind_tt>=len(Gind_list)]=pot_tot_k[ttkw.g_rhoind_tt>=len(Gind_list)]\n",
    "phik_list = []\n",
    "val_len = 2#len(ttkw.g_rhoind_tt[ttkw.g_rhoind_tt<len(Gind_list)])\n",
    "gind_reduced = ttkw.g_rhoind_tt[ttkw.g_rhoind_tt<len(Gind_list)]\n",
    "#g_tuple_q_reduced = ttkw.g_tuple_q_tt[ttkw.g_rhoind_tt<len(Gind_list)]\n",
    "q_ind_reduced = q_ind_tt[ttkw.g_rhoind_tt<len(Gind_list)]\n",
    "pot_reduced = pot_tot_k[ttkw.g_rhoind_tt<len(Gind_list)]\n",
    "for i in range(val_len):\n",
    "    G_index = gind_reduced[i]\n",
    "    q_index = q_ind_reduced[i]\n",
    "    #print(q_index)\n",
    "    #print(q_ind_reduced[i])\n",
    "    pot0 = pot_reduced[q_ind_reduced==q_index]\n",
    "    eps_tmp = eps_mat_q[q_index,G_index,gind_reduced[q_ind_reduced==q_index]]\n",
    "    print(eps_tmp)\n",
    "    print(pot0)\n",
    "    phi_tmp=eps_tmp@pot0.T\n",
    "    phik_list.append(phi_tmp)\n",
    "    #print(i)\n",
    "phi_k[ttkw.g_rhoind_tt<len(Gind_list)] = phik_list\n",
    "    #ttkw.g_rhoind_tt[ttkw.g_rhoind_tt==i]\n",
    "\n",
    "    #ttkw.g_tuple_q_tt\n",
    "    #ttkw.v_coul\n",
    "    "
   ]
  },
  {
   "cell_type": "code",
   "execution_count": null,
   "metadata": {},
   "outputs": [],
   "source": [
    "phi_k[0,0,0]=0\n",
    "pot_tot_r = np.real(np.fft.ifftn(pot_tot_k))\n",
    "pot_bare_r = np.real(np.fft.ifftn(phi_k))\n",
    "nx,ny,nz = np.shape(pot_bare_r)\n",
    "potential_2d1 = pot_tot_r[:,:,int(nz*0.5)]\n",
    "potential_2d2 = pot_bare_r[:,:,int(nz*0.5)]\n",
    "\n",
    "x = np.arange(0, potential_2d1.shape[0])\n",
    "y = np.arange(0, potential_2d1.shape[1])\n",
    "\n",
    "#x = np.copy(a)\n",
    "#y = np.copy(b)\n",
    "\n",
    "\n",
    "X, Y = np.meshgrid(x, y)\n",
    "\n",
    "x = X.flatten()-0.5*Y.flatten()\n",
    "y = Y.flatten()*np.sqrt(3)*0.5 #- X.flatten()*0.5\n",
    "z1 = potential_2d1.flatten()\n",
    "z2 = potential_2d2.flatten()\n",
    "fig, ax = plt.subplots(1,2,figsize=(12,6),dpi=200)\n",
    "hb1 = ax[0].scatter(x, y, c=z1, \n",
    "                #gridsize=100,\n",
    "    #            vmax=0.2,\n",
    "    #            vmin=0.0,\n",
    "                    cmap='coolwarm')\n",
    "ax[0].set_aspect('equal', adjustable='box')\n",
    "#ax.set_xlim(0, 180)\n",
    "#ax.set_ylim(0, 180)\n",
    "cb = fig.colorbar(hb1, ax=ax[0],fraction = 0.035)\n",
    "hb2 = ax[1].scatter(x, y, c=z2, \n",
    "                #gridsize=100,\n",
    "   #             vmax=0.2,\n",
    "   #             vmin=0.0,\n",
    "                    cmap='coolwarm')\n",
    "ax[1].set_aspect('equal', adjustable='box')\n",
    "#ax.set_xlim(0, 180)\n",
    "#ax.set_ylim(0, 180)\n",
    "cb = fig.colorbar(hb2, ax=ax[1],fraction = 0.035)\n",
    "cb.set_label('Potential')\n",
    "plt.show()\n",
    "#Rho1.rho = np.real(pot_tot_r)\n",
    "#io_xsf.write_xsf(Rho1, xsf_type='rho', filedir=cell['folder']+'test.xsf')"
   ]
  },
  {
   "cell_type": "code",
   "execution_count": null,
   "metadata": {},
   "outputs": [],
   "source": [
    "phi_k[-1,0,0]"
   ]
  },
  {
   "cell_type": "code",
   "execution_count": null,
   "metadata": {},
   "outputs": [],
   "source": [
    "pot_tot_k[2,0,0]"
   ]
  },
  {
   "cell_type": "code",
   "execution_count": null,
   "metadata": {},
   "outputs": [],
   "source": [
    "ttkw.fft_kxx_tt[:,0,0]"
   ]
  },
  {
   "cell_type": "code",
   "execution_count": null,
   "metadata": {},
   "outputs": [],
   "source": []
  },
  {
   "cell_type": "code",
   "execution_count": null,
   "metadata": {},
   "outputs": [],
   "source": []
  },
  {
   "cell_type": "code",
   "execution_count": null,
   "metadata": {},
   "outputs": [],
   "source": []
  }
 ],
 "metadata": {
  "kernelspec": {
   "display_name": "Python 3",
   "language": "python",
   "name": "python3"
  },
  "language_info": {
   "codemirror_mode": {
    "name": "ipython",
    "version": 3
   },
   "file_extension": ".py",
   "mimetype": "text/x-python",
   "name": "python",
   "nbconvert_exporter": "python",
   "pygments_lexer": "ipython3",
   "version": "3.11.4"
  },
  "orig_nbformat": 4
 },
 "nbformat": 4,
 "nbformat_minor": 2
}
